{
 "cells": [
  {
   "cell_type": "code",
   "execution_count": 3,
   "metadata": {},
   "outputs": [
    {
     "name": "stdout",
     "output_type": "stream",
     "text": [
      "cos(x)\n"
     ]
    }
   ],
   "source": [
    "from casadi import *\n",
    "x = MX.sym(\"x\")\n",
    "print(jacobian(sin(x),x))\n"
   ]
  },
  {
   "cell_type": "code",
   "execution_count": null,
   "metadata": {},
   "outputs": [],
   "source": [
    "#SX for scalar operations, MX for Matrix operations\n",
    "# https://web.casadi.org/docs/#a-simple-test-problem For optimization stack\n",
    "\n",
    "#direct shooting vs direct multiple shooting vs indirect vs all at once"
   ]
  },
  {
   "cell_type": "markdown",
   "metadata": {},
   "source": [
    "NLP solvers available:\n",
    "blocksqp\n",
    "bonmin\n",
    "ipopt\n",
    "knitro\n",
    "snopt\n",
    "worhp\n",
    "feasiblesqpmethod\n",
    "qrsqp\n",
    "scpgen\n",
    "sqpmethod"
   ]
  },
  {
   "cell_type": "markdown",
   "metadata": {},
   "source": [
    "QP solvers:\n",
    "clp\n",
    "cplex\n",
    "fatrop\n",
    "gurobi\n",
    "highs\n",
    "hpipm\n",
    "hpmpc\n",
    "ooqp\n",
    "osqp\n",
    "proxqp\n",
    "qpoases\n",
    "sqic\n",
    "superscs\n",
    "ipqp\n",
    "nlpsol\n",
    "qrqp"
   ]
  },
  {
   "cell_type": "code",
   "execution_count": null,
   "metadata": {},
   "outputs": [],
   "source": [
    "opti = casadi.Opti()\n",
    "\n",
    "x = opti.variable()\n",
    "y = opti.variable()\n",
    "\n",
    "opti.minimize(  (y-x**2)**2   )\n",
    "opti.subject_to( x**2+y**2==1 )\n",
    "opti.subject_to(       x+y>=1 )\n",
    "\n",
    "opti.solver('ipopt')\n",
    "\n",
    "\n",
    "sol = opti.solve()\n",
    "\n",
    "print(sol.value(x))\n",
    "print(sol.value(y))\n",
    "\n",
    "# opti.set_initial(sol1.value_variables())\n"
   ]
  },
  {
   "cell_type": "code",
   "execution_count": null,
   "metadata": {},
   "outputs": [],
   "source": [
    "#Lagrange multiplers (dual variables)\n",
    "con = sin(x+y)>=1\n",
    "opti.subject_to(con)\n",
    "sol = opti.solve()\n",
    "\n",
    "print(sol.value(opti.dual(con)))\n"
   ]
  }
 ],
 "metadata": {
  "kernelspec": {
   "display_name": "Python 3",
   "language": "python",
   "name": "python3"
  },
  "language_info": {
   "codemirror_mode": {
    "name": "ipython",
    "version": 3
   },
   "file_extension": ".py",
   "mimetype": "text/x-python",
   "name": "python",
   "nbconvert_exporter": "python",
   "pygments_lexer": "ipython3",
   "version": "3.10.12"
  }
 },
 "nbformat": 4,
 "nbformat_minor": 2
}

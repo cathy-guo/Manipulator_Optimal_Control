{
 "cells": [
  {
   "cell_type": "markdown",
   "metadata": {},
   "source": [
    "# Trajectory optimization for a 2 link planar manipulator\n"
   ]
  },
  {
   "cell_type": "markdown",
   "metadata": {},
   "source": [
    "Import statements, check that casadi symbolic variables are working"
   ]
  },
  {
   "cell_type": "code",
   "execution_count": 2,
   "metadata": {},
   "outputs": [
    {
     "name": "stdout",
     "output_type": "stream",
     "text": [
      "cos(x)\n"
     ]
    }
   ],
   "source": [
    "import numpy as np\n",
    "from casadi import *\n",
    "x = MX.sym(\"x\")\n",
    "print(jacobian(sin(x),x))\n"
   ]
  },
  {
   "cell_type": "markdown",
   "metadata": {},
   "source": [
    "Build a class for storing all manipulator properties and EoMs"
   ]
  },
  {
   "cell_type": "code",
   "execution_count": 25,
   "metadata": {},
   "outputs": [
    {
     "ename": "IndentationError",
     "evalue": "expected an indented block after function definition on line 23 (164745986.py, line 26)",
     "output_type": "error",
     "traceback": [
      "\u001b[1;36m  Cell \u001b[1;32mIn[25], line 26\u001b[1;36m\u001b[0m\n\u001b[1;33m    def G(self):\u001b[0m\n\u001b[1;37m    ^\u001b[0m\n\u001b[1;31mIndentationError\u001b[0m\u001b[1;31m:\u001b[0m expected an indented block after function definition on line 23\n"
     ]
    }
   ],
   "source": [
    "## Class for Manipulator Dynamics\n",
    "class Manipulator:\n",
    "\n",
    "    def __init__(self, M1, M2, L1, L2, theta1, theta2):\n",
    "\n",
    "        # Manipulator parameters\n",
    "        self.M1 = M1\n",
    "        self.M2 = M2\n",
    "        self.L1 = L1\n",
    "        self.L2 = L2\n",
    "\n",
    "        # Define simulation parameters\n",
    "        self.T = 30                                         # not sure what a reasonable amount is\n",
    "        self.dt = 0.01\n",
    "        self.n = self.T/self.dt\n",
    "        self.g = 9.81\n",
    "\n",
    "        # Define arrays for system matrices\n",
    "        self.M = MX.sym('M', 4,4,self.n)\n",
    "        self.c = MX.sym('c', 2,1,self.n)\n",
    "        self.G = MX.sym(\"G\", 2,1,self.n)\n",
    "\n",
    "        # Define our decision variables\n",
    "        self.X = MX.sym('X', 4, self.n)           # X = [theta1, theta2, theta1_dot, theta2_dot].T\n",
    "        self.tau = MX.sym('tau', self.n)          # tau = [tau1, tau2].T\n",
    "\n",
    "    def M(self):\n",
    "        # Sets up the array of mass matrices\n",
    "        for k in range(0, self.n):\n",
    "            [theta1, theta2, theta1dot, theta2dot] = [self.X[0, k], self.X[1, k], self.X[2, k], self.X[3, k]]\n",
    "            self.M[1,1,k] = (self.M1 + self.M2) * self.L1**2\n",
    "            self.M[1,2,k] = self.M2 * self.L1 * self.L2 * cos(theta1 - theta2)\n",
    "            self.M[2,1,k] = self.M2 * self.L1 * self.L2 * cos(theta1 - theta2)\n",
    "            self.M[2,2,k] = self.M2 * self.L2**2\n",
    "        return self.M\n",
    "\n",
    "    def c(self):\n",
    "        for k in range(0, self.n):\n",
    "            [theta1, theta2, theta1dot, theta2dot] = [self.X[0, k], self.X[1, k], self.X[2, k], self.X[3, k]]\n",
    "            self.c[1,1,k] = self.M2*self.L1*self.L2*theta2dot**2 * sin(theta1-theta2)\n",
    "            self.c[2,1,k] = -self.M2*self.L1*self.L2*theta1dot**2 * sin(theta1-theta2)\n",
    "        return self.c\n",
    "\n",
    "    def G(self):\n",
    "        for k in range(0, self.n):\n",
    "            [theta1, theta2, theta1dot, theta2dot] = [self.X[0, k], self.X[1, k], self.X[2, k], self.X[3, k]]\n",
    "            self.G[1,1,k] = (self.M1+self.M2) * self.g * self.L1 * cos(theta1)\n",
    "            self.G[2,1,k] = self.M2 *self.g *self.L2 * cos(theta2)\n",
    "        return self.G\n",
    "\n",
    "    def Xdot(self):\n",
    "        # Returns the time derivative of X as defined in the doc\n",
    "        # TODO\n",
    "        return Xdot\n",
    "\n",
    "    def build_equality_constraints(X_start, X_finish, T, dt):\n",
    "        # Build constraints as defined in the doc\n",
    "        return eq_constraints\n",
    "\n",
    "    "
   ]
  },
  {
   "cell_type": "code",
   "execution_count": 31,
   "metadata": {},
   "outputs": [
    {
     "ename": "RuntimeError",
     "evalue": ".../casadi/core/slice.cpp:80: Assertion \"stop<=len\" failed:\nSlice (start=0, stop=4, step=1) out of bounds with supplied length of 0",
     "output_type": "error",
     "traceback": [
      "\u001b[1;31m---------------------------------------------------------------------------\u001b[0m",
      "\u001b[1;31mRuntimeError\u001b[0m                              Traceback (most recent call last)",
      "\u001b[1;32m~\\AppData\\Local\\Temp\\ipykernel_71888\\1045836830.py\u001b[0m in \u001b[0;36m?\u001b[1;34m()\u001b[0m\n\u001b[0;32m      2\u001b[0m \u001b[0ma\u001b[0m \u001b[1;33m=\u001b[0m \u001b[0mMX\u001b[0m\u001b[1;33m.\u001b[0m\u001b[0msym\u001b[0m\u001b[1;33m(\u001b[0m\u001b[1;34m'a'\u001b[0m\u001b[1;33m,\u001b[0m\u001b[1;36m4\u001b[0m\u001b[1;33m,\u001b[0m\u001b[1;36m4\u001b[0m\u001b[1;33m)\u001b[0m\u001b[1;33m\u001b[0m\u001b[1;33m\u001b[0m\u001b[0m\n\u001b[0;32m      3\u001b[0m \u001b[0mb\u001b[0m \u001b[1;33m=\u001b[0m \u001b[0mMX\u001b[0m\u001b[1;33m.\u001b[0m\u001b[0msym\u001b[0m\u001b[1;33m(\u001b[0m\u001b[1;34m'b'\u001b[0m\u001b[1;33m,\u001b[0m\u001b[1;36m4\u001b[0m\u001b[1;33m,\u001b[0m\u001b[1;36m1\u001b[0m\u001b[1;33m)\u001b[0m\u001b[1;33m\u001b[0m\u001b[1;33m\u001b[0m\u001b[0m\n\u001b[0;32m      4\u001b[0m \u001b[1;32mfor\u001b[0m \u001b[0mi\u001b[0m \u001b[1;32min\u001b[0m \u001b[0mrange\u001b[0m\u001b[1;33m(\u001b[0m\u001b[1;36m0\u001b[0m\u001b[1;33m,\u001b[0m\u001b[1;36m4\u001b[0m\u001b[1;33m)\u001b[0m\u001b[1;33m:\u001b[0m\u001b[1;33m\u001b[0m\u001b[1;33m\u001b[0m\u001b[0m\n\u001b[0;32m      5\u001b[0m     \u001b[0mai\u001b[0m \u001b[1;33m=\u001b[0m \u001b[0mMX\u001b[0m\u001b[1;33m.\u001b[0m\u001b[0msym\u001b[0m\u001b[1;33m(\u001b[0m\u001b[1;34m\"ai\"\u001b[0m\u001b[1;33m,\u001b[0m\u001b[1;36m0\u001b[0m\u001b[1;33m,\u001b[0m\u001b[1;36m4\u001b[0m\u001b[1;33m)\u001b[0m\u001b[1;33m\u001b[0m\u001b[1;33m\u001b[0m\u001b[0m\n\u001b[1;32m----> 6\u001b[1;33m     \u001b[0mai\u001b[0m\u001b[1;33m[\u001b[0m\u001b[1;36m0\u001b[0m\u001b[1;33m:\u001b[0m\u001b[1;36m4\u001b[0m\u001b[1;33m]\u001b[0m \u001b[1;33m=\u001b[0m \u001b[0ma\u001b[0m\u001b[1;33m[\u001b[0m\u001b[1;33m:\u001b[0m\u001b[1;33m,\u001b[0m \u001b[0mi\u001b[0m\u001b[1;33m]\u001b[0m\u001b[1;33m*\u001b[0m\u001b[0mi\u001b[0m\u001b[1;33m\u001b[0m\u001b[1;33m\u001b[0m\u001b[0m\n\u001b[0m\u001b[0;32m      7\u001b[0m     \u001b[0mb\u001b[0m\u001b[1;33m[\u001b[0m\u001b[1;33m:\u001b[0m\u001b[1;33m,\u001b[0m\u001b[0mi\u001b[0m\u001b[1;33m]\u001b[0m \u001b[1;33m=\u001b[0m \u001b[0mai\u001b[0m\u001b[1;33m\u001b[0m\u001b[1;33m\u001b[0m\u001b[0m\n\u001b[0;32m      8\u001b[0m \u001b[0mprint\u001b[0m\u001b[1;33m(\u001b[0m\u001b[0mb\u001b[0m\u001b[1;33m)\u001b[0m\u001b[1;33m\u001b[0m\u001b[1;33m\u001b[0m\u001b[0m\n",
      "\u001b[1;32mc:\\Users\\Owner\\AppData\\Local\\Programs\\Python\\Python312\\Lib\\site-packages\\casadi\\casadi.py\u001b[0m in \u001b[0;36m?\u001b[1;34m(self, s, val)\u001b[0m\n\u001b[0;32m  16304\u001b[0m     \u001b[1;32mdef\u001b[0m \u001b[0m__setitem__\u001b[0m\u001b[1;33m(\u001b[0m\u001b[0mself\u001b[0m\u001b[1;33m,\u001b[0m\u001b[0ms\u001b[0m\u001b[1;33m,\u001b[0m\u001b[0mval\u001b[0m\u001b[1;33m)\u001b[0m\u001b[1;33m:\u001b[0m\u001b[1;33m\u001b[0m\u001b[1;33m\u001b[0m\u001b[0m\n\u001b[0;32m  16305\u001b[0m           \u001b[1;32mif\u001b[0m \u001b[0misinstance\u001b[0m\u001b[1;33m(\u001b[0m\u001b[0ms\u001b[0m\u001b[1;33m,\u001b[0m\u001b[0mtuple\u001b[0m\u001b[1;33m)\u001b[0m \u001b[1;32mand\u001b[0m \u001b[0mlen\u001b[0m\u001b[1;33m(\u001b[0m\u001b[0ms\u001b[0m\u001b[1;33m)\u001b[0m\u001b[1;33m==\u001b[0m\u001b[1;36m2\u001b[0m\u001b[1;33m:\u001b[0m\u001b[1;33m\u001b[0m\u001b[1;33m\u001b[0m\u001b[0m\n\u001b[0;32m  16306\u001b[0m             \u001b[1;32mreturn\u001b[0m \u001b[0mself\u001b[0m\u001b[1;33m.\u001b[0m\u001b[0mset\u001b[0m\u001b[1;33m(\u001b[0m\u001b[0mval\u001b[0m\u001b[1;33m,\u001b[0m \u001b[1;32mFalse\u001b[0m\u001b[1;33m,\u001b[0m \u001b[0ms\u001b[0m\u001b[1;33m[\u001b[0m\u001b[1;36m0\u001b[0m\u001b[1;33m]\u001b[0m\u001b[1;33m,\u001b[0m \u001b[0ms\u001b[0m\u001b[1;33m[\u001b[0m\u001b[1;36m1\u001b[0m\u001b[1;33m]\u001b[0m\u001b[1;33m)\u001b[0m\u001b[1;33m\u001b[0m\u001b[1;33m\u001b[0m\u001b[0m\n\u001b[1;32m> 16307\u001b[1;33m           \u001b[1;32mreturn\u001b[0m \u001b[0mself\u001b[0m\u001b[1;33m.\u001b[0m\u001b[0mset\u001b[0m\u001b[1;33m(\u001b[0m\u001b[0mval\u001b[0m\u001b[1;33m,\u001b[0m \u001b[1;32mFalse\u001b[0m\u001b[1;33m,\u001b[0m \u001b[0ms\u001b[0m\u001b[1;33m)\u001b[0m\u001b[1;33m\u001b[0m\u001b[1;33m\u001b[0m\u001b[0m\n\u001b[0m",
      "\u001b[1;32mc:\\Users\\Owner\\AppData\\Local\\Programs\\Python\\Python312\\Lib\\site-packages\\casadi\\casadi.py\u001b[0m in \u001b[0;36m?\u001b[1;34m(self, *args)\u001b[0m\n\u001b[0;32m  15666\u001b[0m \u001b[1;33m\u001b[0m\u001b[0m\n\u001b[0;32m  15667\u001b[0m \u001b[1;33m\u001b[0m\u001b[0m\n\u001b[0;32m  15668\u001b[0m \u001b[1;33m\u001b[0m\u001b[0m\n\u001b[0;32m  15669\u001b[0m         \"\"\"\n\u001b[1;32m> 15670\u001b[1;33m         \u001b[1;32mreturn\u001b[0m \u001b[0m_casadi\u001b[0m\u001b[1;33m.\u001b[0m\u001b[0mMX_set\u001b[0m\u001b[1;33m(\u001b[0m\u001b[0mself\u001b[0m\u001b[1;33m,\u001b[0m \u001b[1;33m*\u001b[0m\u001b[0margs\u001b[0m\u001b[1;33m)\u001b[0m\u001b[1;33m\u001b[0m\u001b[1;33m\u001b[0m\u001b[0m\n\u001b[0m",
      "\u001b[1;31mRuntimeError\u001b[0m: .../casadi/core/slice.cpp:80: Assertion \"stop<=len\" failed:\nSlice (start=0, stop=4, step=1) out of bounds with supplied length of 0"
     ]
    }
   ],
   "source": [
    "# Just using this cell to check if casadi behaves the way i think it will\n",
    "a = MX.sym('a',4,4)\n",
    "b = MX.sym('b',4,1)\n",
    "for i in range(0,4):\n",
    "    ai = MX.sym(\"ai\",0,4)\n",
    "    ai[0:4] = a[:, i]*i\n",
    "    b[:,i] = ai\n",
    "print(b)"
   ]
  },
  {
   "cell_type": "code",
   "execution_count": null,
   "metadata": {},
   "outputs": [],
   "source": [
    "#SX for scalar operations, MX for Matrix operations\n",
    "# https://web.casadi.org/docs/#a-simple-test-problem For optimization stack\n",
    "\n",
    "#direct shooting vs direct multiple shooting vs indirect vs all at once"
   ]
  },
  {
   "cell_type": "markdown",
   "metadata": {},
   "source": [
    "NLP solvers available:\n",
    "blocksqp\n",
    "bonmin\n",
    "ipopt\n",
    "knitro\n",
    "snopt\n",
    "worhp\n",
    "feasiblesqpmethod\n",
    "qrsqp\n",
    "scpgen\n",
    "sqpmethod"
   ]
  },
  {
   "cell_type": "markdown",
   "metadata": {},
   "source": [
    "QP solvers:\n",
    "clp\n",
    "cplex\n",
    "fatrop\n",
    "gurobi\n",
    "highs\n",
    "hpipm\n",
    "hpmpc\n",
    "ooqp\n",
    "osqp\n",
    "proxqp\n",
    "qpoases\n",
    "sqic\n",
    "superscs\n",
    "ipqp\n",
    "nlpsol\n",
    "qrqp"
   ]
  },
  {
   "cell_type": "code",
   "execution_count": null,
   "metadata": {},
   "outputs": [],
   "source": [
    "opti = casadi.Opti()\n",
    "\n",
    "x = opti.variable()\n",
    "y = opti.variable()\n",
    "\n",
    "opti.minimize(  (y-x**2)**2   )\n",
    "opti.subject_to( x**2+y**2==1 )\n",
    "opti.subject_to(       x+y>=1 )\n",
    "\n",
    "opti.solver('ipopt')\n",
    "\n",
    "\n",
    "sol = opti.solve()\n",
    "\n",
    "print(sol.value(x))\n",
    "print(sol.value(y))\n",
    "\n",
    "# opti.set_initial(sol1.value_variables())\n"
   ]
  },
  {
   "cell_type": "code",
   "execution_count": null,
   "metadata": {},
   "outputs": [],
   "source": [
    "#Lagrange multiplers (dual variables)\n",
    "con = sin(x+y)>=1\n",
    "opti.subject_to(con)\n",
    "sol = opti.solve()\n",
    "\n",
    "print(sol.value(opti.dual(con)))\n"
   ]
  }
 ],
 "metadata": {
  "kernelspec": {
   "display_name": "Python 3",
   "language": "python",
   "name": "python3"
  },
  "language_info": {
   "codemirror_mode": {
    "name": "ipython",
    "version": 3
   },
   "file_extension": ".py",
   "mimetype": "text/x-python",
   "name": "python",
   "nbconvert_exporter": "python",
   "pygments_lexer": "ipython3",
   "version": "3.12.2"
  }
 },
 "nbformat": 4,
 "nbformat_minor": 2
}

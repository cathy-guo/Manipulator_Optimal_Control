{
 "cells": [
  {
   "cell_type": "markdown",
   "metadata": {},
   "source": [
    "# Trajectory optimization for a 2 link planar manipulator\n"
   ]
  },
  {
   "cell_type": "markdown",
   "metadata": {},
   "source": [
    "Import statements, check that casadi symbolic variables are working"
   ]
  },
  {
   "cell_type": "code",
   "execution_count": 2,
   "metadata": {},
   "outputs": [
    {
     "name": "stdout",
     "output_type": "stream",
     "text": [
      "cos(x)\n"
     ]
    }
   ],
   "source": [
    "import numpy as np\n",
    "from casadi import *\n",
    "x = MX.sym(\"x\")\n",
    "print(jacobian(sin(x),x))\n"
   ]
  },
  {
   "cell_type": "markdown",
   "metadata": {},
   "source": [
    "Build a class for storing all manipulator properties and EoMs"
   ]
  },
  {
   "cell_type": "code",
   "execution_count": 25,
   "metadata": {},
   "outputs": [
    {
     "ename": "IndentationError",
     "evalue": "expected an indented block after function definition on line 23 (164745986.py, line 26)",
     "output_type": "error",
     "traceback": [
      "\u001b[1;36m  Cell \u001b[1;32mIn[25], line 26\u001b[1;36m\u001b[0m\n\u001b[1;33m    def G(self):\u001b[0m\n\u001b[1;37m    ^\u001b[0m\n\u001b[1;31mIndentationError\u001b[0m\u001b[1;31m:\u001b[0m expected an indented block after function definition on line 23\n"
     ]
    }
   ],
   "source": [
    "## Class for Manipulator Dynamics\n",
    "class Manipulator:\n",
    "\n",
    "    def __init__(self, M1, M2, L1, L2, theta1, theta2):\n",
    "        self.M1 = M1\n",
    "        self.M2 = M2\n",
    "        self.L1 = L1\n",
    "        self.L2 = L2\n",
    "\n",
    "        # Define our decision variables\n",
    "        self.X = MX.sym('X', 4, 1)          # X = [theta1, theta2, theta1_dot, theta2_dot].T\n",
    "        self.tau = MX.sym('tau', 2, 1)      # tau = [tau1, tau2].T\n",
    "\n",
    "    def M(self):\n",
    "        [theta1, theta2, theta1dot, theta2dot] = [self.X[0], self.X[1], self.X[2], self.X[3]]\n",
    "        self.M = np.empty((2,2))\n",
    "        self.M[1,1] = (self.M1 + self.M2) * self.L1**2\n",
    "        self.M[1,2] = self.M2 * self.L1 * self.L2 * cos(theta1 - theta2)\n",
    "        self.M[2,1] = self.M2 * self.L1 * self.L2 * cos(theta1 - theta2)\n",
    "        self.M[2,2] = self.M2 * self.L2**2\n",
    "        return self.M\n",
    "\n",
    "    def c(self):\n",
    "        # TODO\n",
    "        return c\n",
    "\n",
    "    def G(self):\n",
    "        # TODO\n",
    "        return G\n",
    "\n",
    "    def Xdot(self):\n",
    "        # Returns the time derivative of X as defined in the doc\n",
    "        # TODO\n",
    "        return Xdot\n",
    "\n",
    "    def build_equality_constraints(X_start, X_finish, T, dt):\n",
    "        # Build constraints as defined in the doc\n",
    "        return eq_constraints\n",
    "\n",
    "    "
   ]
  },
  {
   "cell_type": "code",
   "execution_count": 22,
   "metadata": {},
   "outputs": [
    {
     "name": "stdout",
     "output_type": "stream",
     "text": [
      "a[3]\n"
     ]
    }
   ],
   "source": [
    "# Just using this cell to check if casadi behaves the way i think it will\n",
    "a = MX.sym('a',4,1)\n",
    "print(a[3])"
   ]
  },
  {
   "cell_type": "code",
   "execution_count": null,
   "metadata": {},
   "outputs": [],
   "source": [
    "#SX for scalar operations, MX for Matrix operations\n",
    "# https://web.casadi.org/docs/#a-simple-test-problem For optimization stack\n",
    "\n",
    "#direct shooting vs direct multiple shooting vs indirect vs all at once"
   ]
  },
  {
   "cell_type": "markdown",
   "metadata": {},
   "source": [
    "NLP solvers available:\n",
    "blocksqp\n",
    "bonmin\n",
    "ipopt\n",
    "knitro\n",
    "snopt\n",
    "worhp\n",
    "feasiblesqpmethod\n",
    "qrsqp\n",
    "scpgen\n",
    "sqpmethod"
   ]
  },
  {
   "cell_type": "markdown",
   "metadata": {},
   "source": [
    "QP solvers:\n",
    "clp\n",
    "cplex\n",
    "fatrop\n",
    "gurobi\n",
    "highs\n",
    "hpipm\n",
    "hpmpc\n",
    "ooqp\n",
    "osqp\n",
    "proxqp\n",
    "qpoases\n",
    "sqic\n",
    "superscs\n",
    "ipqp\n",
    "nlpsol\n",
    "qrqp"
   ]
  },
  {
   "cell_type": "code",
   "execution_count": null,
   "metadata": {},
   "outputs": [],
   "source": [
    "opti = casadi.Opti()\n",
    "\n",
    "x = opti.variable()\n",
    "y = opti.variable()\n",
    "\n",
    "opti.minimize(  (y-x**2)**2   )\n",
    "opti.subject_to( x**2+y**2==1 )\n",
    "opti.subject_to(       x+y>=1 )\n",
    "\n",
    "opti.solver('ipopt')\n",
    "\n",
    "\n",
    "sol = opti.solve()\n",
    "\n",
    "print(sol.value(x))\n",
    "print(sol.value(y))\n",
    "\n",
    "# opti.set_initial(sol1.value_variables())\n"
   ]
  },
  {
   "cell_type": "code",
   "execution_count": null,
   "metadata": {},
   "outputs": [],
   "source": [
    "#Lagrange multiplers (dual variables)\n",
    "con = sin(x+y)>=1\n",
    "opti.subject_to(con)\n",
    "sol = opti.solve()\n",
    "\n",
    "print(sol.value(opti.dual(con)))\n"
   ]
  }
 ],
 "metadata": {
  "kernelspec": {
   "display_name": "Python 3",
   "language": "python",
   "name": "python3"
  },
  "language_info": {
   "codemirror_mode": {
    "name": "ipython",
    "version": 3
   },
   "file_extension": ".py",
   "mimetype": "text/x-python",
   "name": "python",
   "nbconvert_exporter": "python",
   "pygments_lexer": "ipython3",
   "version": "3.12.2"
  }
 },
 "nbformat": 4,
 "nbformat_minor": 2
}
